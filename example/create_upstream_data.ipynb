{
 "cells": [
  {
   "cell_type": "markdown",
   "metadata": {},
   "source": [
    "# Creating upstream data\n",
    "#### Author: Tadd Bindas\n",
    "\n",
    "#### Use Cases:\n",
    "- Generating subset data for tests/realization files"
   ]
  },
  {
   "cell_type": "code",
   "execution_count": 1,
   "metadata": {},
   "outputs": [],
   "source": [
    "import fim_tools as ft"
   ]
  },
  {
   "cell_type": "code",
   "execution_count": 3,
   "metadata": {},
   "outputs": [],
   "source": [
    "flowpath_attr_cols = [\n",
    "    \"link\",\n",
    "    \"Length_m\",\n",
    "    \"n\",\n",
    "    \"nCC\",\n",
    "    \"So\",\n",
    "    \"BtmWdth\",\n",
    "    \"waterbody_nex_id\",\n",
    "    \"gage_nex_id\",\n",
    "    \"TopWdth\",\n",
    "    \"TopWdthCC\",\n",
    "    \"MusK\",\n",
    "    \"ChSlp\",\n",
    "    \"alt\",\n",
    "]\n",
    "\n",
    "ft.get_upstream(\n",
    "    file_path=\"/Users/taddbindas/Downloads/conus_nextgen.gpkg\",\n",
    "    output_path=\"/Users/taddbindas/projects/fim-tools/data/LowerColorado_v22.gpkg\",\n",
    "    source=\"tnx-1000006230\",\n",
    "    flowpath_attr_cols=flowpath_attr_cols,\n",
    ")"
   ]
  },
  {
   "cell_type": "code",
   "execution_count": null,
   "metadata": {},
   "outputs": [],
   "source": []
  }
 ],
 "metadata": {
  "kernelspec": {
   "display_name": "fim-tools",
   "language": "python",
   "name": "python3"
  },
  "language_info": {
   "codemirror_mode": {
    "name": "ipython",
    "version": 3
   },
   "file_extension": ".py",
   "mimetype": "text/x-python",
   "name": "python",
   "nbconvert_exporter": "python",
   "pygments_lexer": "ipython3",
   "version": "3.11.10"
  }
 },
 "nbformat": 4,
 "nbformat_minor": 2
}
